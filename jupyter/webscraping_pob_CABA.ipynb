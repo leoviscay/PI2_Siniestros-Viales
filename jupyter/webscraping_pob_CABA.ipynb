{
 "cells": [
  {
   "cell_type": "markdown",
   "metadata": {},
   "source": [
    "## Webscraping de Población de CABA"
   ]
  },
  {
   "cell_type": "markdown",
   "metadata": {},
   "source": [
    "Para determinar los KPI's, necesitamos trabajar con la población total de CABA, \n",
    "por lo que se buscará obterner ese dato con tope de fecha el 14/08/2023, \n",
    "fecha de publicado el dataset que se esta trabajando:"
   ]
  },
  {
   "cell_type": "markdown",
   "metadata": {},
   "source": [
    "Tras varias busquedas en sitios oficiales (INDEC, pagina de CABA, etc), se opta por Wikipedia"
   ]
  },
  {
   "cell_type": "code",
   "execution_count": 19,
   "metadata": {},
   "outputs": [],
   "source": [
    "import requests\n",
    "from bs4 import BeautifulSoup\n",
    "import pandas as pd"
   ]
  },
  {
   "cell_type": "code",
   "execution_count": 22,
   "metadata": {},
   "outputs": [],
   "source": [
    "# URL de la página web\n",
    "url = \"https://es.wikipedia.org/wiki/Buenos_Aires\"\n",
    "\n",
    "# Realiza la solicitud a la página web\n",
    "response = requests.get(url)\n",
    "\n",
    "# Si la solicitud se realiza correctamente\n",
    "if response.status_code == 200:\n",
    "    # Crea un objeto BeautifulSoup para la página web\n",
    "    soup = BeautifulSoup(response.content, \"html.parser\")\n"
   ]
  },
  {
   "cell_type": "markdown",
   "metadata": {},
   "source": [
    "![Texto alternativo](images\\Captura_wikipedia.png)\n",
    "\n",
    "![](images/Captura_wikipedia.png)\n"
   ]
  },
  {
   "cell_type": "markdown",
   "metadata": {},
   "source": []
  }
 ],
 "metadata": {
  "kernelspec": {
   "display_name": "base",
   "language": "python",
   "name": "python3"
  },
  "language_info": {
   "codemirror_mode": {
    "name": "ipython",
    "version": 3
   },
   "file_extension": ".py",
   "mimetype": "text/x-python",
   "name": "python",
   "nbconvert_exporter": "python",
   "pygments_lexer": "ipython3",
   "version": "3.11.5"
  }
 },
 "nbformat": 4,
 "nbformat_minor": 2
}
