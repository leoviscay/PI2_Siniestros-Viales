{
 "cells": [
  {
   "cell_type": "markdown",
   "metadata": {},
   "source": [
    "## Webscraping de Población de CABA"
   ]
  },
  {
   "cell_type": "markdown",
   "metadata": {},
   "source": [
    "Para determinar los KPI's, necesitamos trabajar con la población total de CABA, \n",
    "por lo que se buscará obterner ese dato con tope de fecha el 14/08/2023, \n",
    "fecha de publicado el dataset que se esta trabajando:"
   ]
  },
  {
   "cell_type": "markdown",
   "metadata": {},
   "source": [
    "Tras varias busquedas en sitios oficiales (INDEC, pagina de CABA, etc), se opta por Wikipedia"
   ]
  },
  {
   "cell_type": "code",
   "execution_count": 2,
   "metadata": {},
   "outputs": [],
   "source": [
    "import requests\n",
    "from bs4 import BeautifulSoup\n",
    "import pandas as pd"
   ]
  },
  {
   "cell_type": "code",
   "execution_count": 3,
   "metadata": {},
   "outputs": [],
   "source": [
    "# URL de la página web\n",
    "url = \"https://es.wikipedia.org/wiki/Buenos_Aires\"\n",
    "\n",
    "# Realiza la solicitud a la página web\n",
    "response = requests.get(url)\n",
    "\n",
    "# Si la solicitud se realiza correctamente\n",
    "if response.status_code == 200:\n",
    "    # Crea un objeto BeautifulSoup para la página web\n",
    "    soup = BeautifulSoup(response.content, \"html.parser\")\n"
   ]
  },
  {
   "cell_type": "markdown",
   "metadata": {},
   "source": [
    "![Texto alternativo](../images/Captura_wikipedia.png)\n",
    "\n",
    "![](images/Captura_wikipedia.png)\n"
   ]
  },
  {
   "cell_type": "code",
   "execution_count": 4,
   "metadata": {},
   "outputs": [],
   "source": [
    "#Se visualiza que el dato de interés se encuentra dentro de una etiqueta <table>, \n",
    "# pero al no ser la unica, se itera por todas las etiquetas <table> que encuentre hasta encontrar un encabezado <th> \n",
    "# que contenga los atributos colspan='3' y class='navbox-title'. \n",
    "# Luego, se verifica si se encuentra el encabezado \"Población histórica\"y obtener la información de la tabla y para posteriormente guardarla en una variable target_table.\n",
    "\n",
    "\n",
    "# Se inicializa una variable llamada target_table como None\n",
    "target_table = None\n",
    "\n",
    "# Se busca todas las etiquetas de tabla (<table>) en el contenido HTML\n",
    "tables = soup.find_all('table')\n",
    "\n",
    "# Se itera a través de todas las tablas encontradas en la página web\n",
    "for table in tables:\n",
    "    # Se busca una etiqueta de encabezado (<th>) dentro de la tabla que tenga los atributos colspan='3' y class='navbox-title'\n",
    "    header = table.find('th', {'colspan': '3', 'class': 'navbox-title'})\n",
    "    \n",
    "    # Se comprueba si se encontró un encabezado y si el texto del encabezado contiene \"Población histórica\"\n",
    "    if header and \"Población histórica\" in header.text:\n",
    "        # Si se cumple la condición anterior, asigna la tabla actual a la variable target_table y sale del bucle for con break\n",
    "        target_table = table\n",
    "        break"
   ]
  },
  {
   "cell_type": "code",
   "execution_count": 6,
   "metadata": {},
   "outputs": [
    {
     "name": "stdout",
     "output_type": "stream",
     "text": [
      "<table class=\"toccolours\" style=\"width:15em;border-spacing: 0;float:right;clear:right;margin:0 0 1em 1em;\"><tbody><tr><th class=\"navbox-title\" colspan=\"3\" style=\"padding:0.25em;font-size:110%\">Población histórica</th></tr><tr style=\"font-size:95%\"><th style=\"border-bottom:1px solid black;padding:1px;width:3em\">Año</th><th style=\"border-bottom:1px solid black;padding:1px 2px;text-align:right\"><abbr title=\"Población\">Pob.</abbr></th><th style=\"border-bottom:1px solid black;padding:1px;text-align:right\"><abbr title=\"Cambio porcentual\">±%</abbr></th></tr><tr><th style=\"text-align:center;padding:1px\">1779 </th><td style=\"text-align:right;padding:1px\">24 205</td><td style=\"text-align:right;padding:1px\">—    </td></tr><tr><th style=\"text-align:center;padding:1px\">1810 </th><td style=\"text-align:right;padding:1px\">44 800</td><td style=\"text-align:right;padding:1px\">+85.1%</td></tr><tr><th style=\"text-align:center;padding:1px\">1869 </th><td style=\"text-align:right;padding:1px\">177 797</td><td style=\"text-align:right;padding:1px\">+296.9%</td></tr><tr><th style=\"text-align:center;padding:1px\">1895 </th><td style=\"text-align:right;padding:1px\">663 854</td><td style=\"text-align:right;padding:1px\">+273.4%</td></tr><tr><th style=\"text-align:center;padding:1px;border-bottom:1px solid #bbbbbb\">1914 </th><td style=\"text-align:right;padding:1px;border-bottom:1px solid #bbbbbb\">1 575 814</td><td style=\"text-align:right;padding:1px;border-bottom:1px solid #bbbbbb\">+137.4%</td></tr><tr><th style=\"text-align:center;padding:1px\">1947 </th><td style=\"text-align:right;padding:1px\">2 981 043</td><td style=\"text-align:right;padding:1px\">+89.2%</td></tr><tr><th style=\"text-align:center;padding:1px\">1960 </th><td style=\"text-align:right;padding:1px\">2 966 634</td><td style=\"text-align:right;padding:1px\">−0.5%</td></tr><tr><th style=\"text-align:center;padding:1px\">1970 </th><td style=\"text-align:right;padding:1px\">2 972 453</td><td style=\"text-align:right;padding:1px\">+0.2%</td></tr><tr><th style=\"text-align:center;padding:1px\">1980 </th><td style=\"text-align:right;padding:1px\">2 922 829</td><td style=\"text-align:right;padding:1px\">−1.7%</td></tr><tr><th style=\"text-align:center;padding:1px;border-bottom:1px solid #bbbbbb\">1991 </th><td style=\"text-align:right;padding:1px;border-bottom:1px solid #bbbbbb\">2 965 403</td><td style=\"text-align:right;padding:1px;border-bottom:1px solid #bbbbbb\">+1.5%</td></tr><tr><th style=\"text-align:center;padding:1px\">2001 </th><td style=\"text-align:right;padding:1px\">2 776 138</td><td style=\"text-align:right;padding:1px\">−6.4%</td></tr><tr><th style=\"text-align:center;padding:1px\">2010 </th><td style=\"text-align:right;padding:1px\">2 890 151</td><td style=\"text-align:right;padding:1px\">+4.1%</td></tr><tr><th style=\"text-align:center;padding:1px\">2022 </th><td style=\"text-align:right;padding:1px\">3 120 612</td><td style=\"text-align:right;padding:1px\">+8.0%</td></tr></tbody></table>\n"
     ]
    }
   ],
   "source": [
    "print(target_table)"
   ]
  },
  {
   "cell_type": "code",
   "execution_count": 8,
   "metadata": {},
   "outputs": [
    {
     "name": "stdout",
     "output_type": "stream",
     "text": [
      "Se guardo el DF correctametente\n"
     ]
    }
   ],
   "source": [
    "# Se comprueba si se encontró la tabla\n",
    "if target_table:\n",
    "    # Se crean listas para almacenar las columnas de la tabla\n",
    "    years = []  \n",
    "    populations = []  \n",
    "    changes = [] \n",
    "    \n",
    "    # Se inicializa una variable para almacenar el año actual\n",
    "    current_year = None\n",
    "    \n",
    "    # Se itera a través de las filas de la tabla\n",
    "    for row in target_table.find_all('tr'):\n",
    "        # Se busca tanto en th (encabezados) como en td (celdas de datos)\n",
    "        columns = row.find_all(['th', 'td'])  \n",
    "        \n",
    "        # Se comprueba si la fila tiene tres columnas (Año, Población y Cambio porcentual)\n",
    "        if len(columns) == 3:\n",
    "            current_year = columns[0].get_text(strip=True)  # Obtiene el año\n",
    "            population = columns[1].get_text(strip=True)  # Obtiene la población\n",
    "            change = columns[2].get_text(strip=True)  # Obtiene el cambio porcentual\n",
    "            years.append(current_year)  # Agrega el año a la lista years\n",
    "            populations.append(population)  # Agrega la población a la lista populations\n",
    "            changes.append(change)  # Agrega el cambio porcentual a la lista changes\n",
    "        elif len(columns) == 2 and current_year:\n",
    "            # Si la fila tiene dos columnas y ya tenemos el año actual, \n",
    "            # se asume que es la población y el cambio porcentual\n",
    "            population = columns[0].get_text(strip=True)  # Obtiene la población\n",
    "            change = columns[1].get_text(strip=True)  # Obtiene el cambio porcentual\n",
    "            populations.append(population)  # Agrega la población a la lista populations\n",
    "            changes.append(change)  # Agrega el cambio porcentual a la lista changes\n",
    "    \n",
    "    # Se crea un DataFrame de Pandas con los datos extraídos\n",
    "    df = pd.DataFrame({'Año': years, 'Población': populations, 'Cambio porcentual': changes})\n",
    "    \n",
    "    print('Se guardo el DF correctametente')\n",
    "else:\n",
    "    print(\"No se encontró la tabla deseada en la página.\")"
   ]
  },
  {
   "cell_type": "code",
   "execution_count": 10,
   "metadata": {},
   "outputs": [
    {
     "data": {
      "text/html": [
       "<div>\n",
       "<style scoped>\n",
       "    .dataframe tbody tr th:only-of-type {\n",
       "        vertical-align: middle;\n",
       "    }\n",
       "\n",
       "    .dataframe tbody tr th {\n",
       "        vertical-align: top;\n",
       "    }\n",
       "\n",
       "    .dataframe thead th {\n",
       "        text-align: right;\n",
       "    }\n",
       "</style>\n",
       "<table border=\"1\" class=\"dataframe\">\n",
       "  <thead>\n",
       "    <tr style=\"text-align: right;\">\n",
       "      <th></th>\n",
       "      <th>Año</th>\n",
       "      <th>Población</th>\n",
       "      <th>Cambio porcentual</th>\n",
       "    </tr>\n",
       "  </thead>\n",
       "  <tbody>\n",
       "    <tr>\n",
       "      <th>0</th>\n",
       "      <td>Año</td>\n",
       "      <td>Pob.</td>\n",
       "      <td>±%</td>\n",
       "    </tr>\n",
       "    <tr>\n",
       "      <th>1</th>\n",
       "      <td>1779</td>\n",
       "      <td>24 205</td>\n",
       "      <td>—</td>\n",
       "    </tr>\n",
       "    <tr>\n",
       "      <th>2</th>\n",
       "      <td>1810</td>\n",
       "      <td>44 800</td>\n",
       "      <td>+85.1%</td>\n",
       "    </tr>\n",
       "    <tr>\n",
       "      <th>3</th>\n",
       "      <td>1869</td>\n",
       "      <td>177 797</td>\n",
       "      <td>+296.9%</td>\n",
       "    </tr>\n",
       "    <tr>\n",
       "      <th>4</th>\n",
       "      <td>1895</td>\n",
       "      <td>663 854</td>\n",
       "      <td>+273.4%</td>\n",
       "    </tr>\n",
       "    <tr>\n",
       "      <th>5</th>\n",
       "      <td>1914</td>\n",
       "      <td>1 575 814</td>\n",
       "      <td>+137.4%</td>\n",
       "    </tr>\n",
       "    <tr>\n",
       "      <th>6</th>\n",
       "      <td>1947</td>\n",
       "      <td>2 981 043</td>\n",
       "      <td>+89.2%</td>\n",
       "    </tr>\n",
       "    <tr>\n",
       "      <th>7</th>\n",
       "      <td>1960</td>\n",
       "      <td>2 966 634</td>\n",
       "      <td>−0.5%</td>\n",
       "    </tr>\n",
       "    <tr>\n",
       "      <th>8</th>\n",
       "      <td>1970</td>\n",
       "      <td>2 972 453</td>\n",
       "      <td>+0.2%</td>\n",
       "    </tr>\n",
       "    <tr>\n",
       "      <th>9</th>\n",
       "      <td>1980</td>\n",
       "      <td>2 922 829</td>\n",
       "      <td>−1.7%</td>\n",
       "    </tr>\n",
       "    <tr>\n",
       "      <th>10</th>\n",
       "      <td>1991</td>\n",
       "      <td>2 965 403</td>\n",
       "      <td>+1.5%</td>\n",
       "    </tr>\n",
       "    <tr>\n",
       "      <th>11</th>\n",
       "      <td>2001</td>\n",
       "      <td>2 776 138</td>\n",
       "      <td>−6.4%</td>\n",
       "    </tr>\n",
       "    <tr>\n",
       "      <th>12</th>\n",
       "      <td>2010</td>\n",
       "      <td>2 890 151</td>\n",
       "      <td>+4.1%</td>\n",
       "    </tr>\n",
       "    <tr>\n",
       "      <th>13</th>\n",
       "      <td>2022</td>\n",
       "      <td>3 120 612</td>\n",
       "      <td>+8.0%</td>\n",
       "    </tr>\n",
       "  </tbody>\n",
       "</table>\n",
       "</div>"
      ],
      "text/plain": [
       "     Año  Población Cambio porcentual\n",
       "0    Año       Pob.                ±%\n",
       "1   1779     24 205                 —\n",
       "2   1810     44 800            +85.1%\n",
       "3   1869    177 797           +296.9%\n",
       "4   1895    663 854           +273.4%\n",
       "5   1914  1 575 814           +137.4%\n",
       "6   1947  2 981 043            +89.2%\n",
       "7   1960  2 966 634             −0.5%\n",
       "8   1970  2 972 453             +0.2%\n",
       "9   1980  2 922 829             −1.7%\n",
       "10  1991  2 965 403             +1.5%\n",
       "11  2001  2 776 138             −6.4%\n",
       "12  2010  2 890 151             +4.1%\n",
       "13  2022  3 120 612             +8.0%"
      ]
     },
     "execution_count": 10,
     "metadata": {},
     "output_type": "execute_result"
    }
   ],
   "source": [
    "df"
   ]
  },
  {
   "cell_type": "code",
   "execution_count": 11,
   "metadata": {},
   "outputs": [
    {
     "data": {
      "text/html": [
       "<div>\n",
       "<style scoped>\n",
       "    .dataframe tbody tr th:only-of-type {\n",
       "        vertical-align: middle;\n",
       "    }\n",
       "\n",
       "    .dataframe tbody tr th {\n",
       "        vertical-align: top;\n",
       "    }\n",
       "\n",
       "    .dataframe thead th {\n",
       "        text-align: right;\n",
       "    }\n",
       "</style>\n",
       "<table border=\"1\" class=\"dataframe\">\n",
       "  <thead>\n",
       "    <tr style=\"text-align: right;\">\n",
       "      <th></th>\n",
       "      <th>Año</th>\n",
       "      <th>Población</th>\n",
       "    </tr>\n",
       "  </thead>\n",
       "  <tbody>\n",
       "    <tr>\n",
       "      <th>1</th>\n",
       "      <td>1779</td>\n",
       "      <td>24205</td>\n",
       "    </tr>\n",
       "    <tr>\n",
       "      <th>2</th>\n",
       "      <td>1810</td>\n",
       "      <td>44800</td>\n",
       "    </tr>\n",
       "    <tr>\n",
       "      <th>3</th>\n",
       "      <td>1869</td>\n",
       "      <td>177797</td>\n",
       "    </tr>\n",
       "    <tr>\n",
       "      <th>4</th>\n",
       "      <td>1895</td>\n",
       "      <td>663854</td>\n",
       "    </tr>\n",
       "    <tr>\n",
       "      <th>5</th>\n",
       "      <td>1914</td>\n",
       "      <td>1575814</td>\n",
       "    </tr>\n",
       "    <tr>\n",
       "      <th>6</th>\n",
       "      <td>1947</td>\n",
       "      <td>2981043</td>\n",
       "    </tr>\n",
       "    <tr>\n",
       "      <th>7</th>\n",
       "      <td>1960</td>\n",
       "      <td>2966634</td>\n",
       "    </tr>\n",
       "    <tr>\n",
       "      <th>8</th>\n",
       "      <td>1970</td>\n",
       "      <td>2972453</td>\n",
       "    </tr>\n",
       "    <tr>\n",
       "      <th>9</th>\n",
       "      <td>1980</td>\n",
       "      <td>2922829</td>\n",
       "    </tr>\n",
       "    <tr>\n",
       "      <th>10</th>\n",
       "      <td>1991</td>\n",
       "      <td>2965403</td>\n",
       "    </tr>\n",
       "    <tr>\n",
       "      <th>11</th>\n",
       "      <td>2001</td>\n",
       "      <td>2776138</td>\n",
       "    </tr>\n",
       "    <tr>\n",
       "      <th>12</th>\n",
       "      <td>2010</td>\n",
       "      <td>2890151</td>\n",
       "    </tr>\n",
       "    <tr>\n",
       "      <th>13</th>\n",
       "      <td>2022</td>\n",
       "      <td>3120612</td>\n",
       "    </tr>\n",
       "  </tbody>\n",
       "</table>\n",
       "</div>"
      ],
      "text/plain": [
       "     Año  Población\n",
       "1   1779      24205\n",
       "2   1810      44800\n",
       "3   1869     177797\n",
       "4   1895     663854\n",
       "5   1914    1575814\n",
       "6   1947    2981043\n",
       "7   1960    2966634\n",
       "8   1970    2972453\n",
       "9   1980    2922829\n",
       "10  1991    2965403\n",
       "11  2001    2776138\n",
       "12  2010    2890151\n",
       "13  2022    3120612"
      ]
     },
     "execution_count": 11,
     "metadata": {},
     "output_type": "execute_result"
    }
   ],
   "source": [
    "#Se procede a la limpieza del DF.\n",
    "# se elimina la primer fila\n",
    "df = df.iloc[1:]\n",
    "# Se elimina la columna Cambio porcentual\n",
    "df = df.drop('Cambio porcentual', axis=1)\n",
    "# Se sacan los espacios de separación de miles\n",
    "df['Población'] = df['Población'].str.replace(' ', '').str.replace('\\xa0', '').astype(int)\n",
    "df"
   ]
  },
  {
   "cell_type": "markdown",
   "metadata": {},
   "source": [
    "#### Se guarda el archivo"
   ]
  },
  {
   "cell_type": "code",
   "execution_count": 13,
   "metadata": {},
   "outputs": [
    {
     "name": "stdout",
     "output_type": "stream",
     "text": [
      "Guardado correctamente\n"
     ]
    }
   ],
   "source": [
    "archivo = '../data/poblacionCABA.csv'\n",
    "df.to_csv(archivo, index=False, encoding='utf-8')\n",
    "print(f'Guardado correctamente')"
   ]
  }
 ],
 "metadata": {
  "kernelspec": {
   "display_name": "base",
   "language": "python",
   "name": "python3"
  },
  "language_info": {
   "codemirror_mode": {
    "name": "ipython",
    "version": 3
   },
   "file_extension": ".py",
   "mimetype": "text/x-python",
   "name": "python",
   "nbconvert_exporter": "python",
   "pygments_lexer": "ipython3",
   "version": "3.11.5"
  }
 },
 "nbformat": 4,
 "nbformat_minor": 2
}
